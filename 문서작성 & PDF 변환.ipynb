{
  "cells": [
    {
      "cell_type": "markdown",
      "metadata": {
        "id": "view-in-github",
        "colab_type": "text"
      },
      "source": [
        "<a href=\"https://colab.research.google.com/github/TJSA23UDQQ12/Temp/blob/master/%EB%AC%B8%EC%84%9C%EC%9E%91%EC%84%B1%20%26%20PDF%20%EB%B3%80%ED%99%98.ipynb\" target=\"_parent\"><img src=\"https://colab.research.google.com/assets/colab-badge.svg\" alt=\"Open In Colab\"/></a>"
      ]
    },
    {
      "cell_type": "code",
      "source": [
        "!pip install python-docx\n",
        "!pip install docx2pdf"
      ],
      "metadata": {
        "id": "bDLbC7MShy2-",
        "outputId": "3441c9e5-8695-435f-8b7a-c0c59111cefd",
        "colab": {
          "base_uri": "https://localhost:8080/"
        }
      },
      "execution_count": 9,
      "outputs": [
        {
          "output_type": "stream",
          "name": "stdout",
          "text": [
            "Looking in indexes: https://pypi.org/simple, https://us-python.pkg.dev/colab-wheels/public/simple/\n",
            "Requirement already satisfied: python-docx in /usr/local/lib/python3.9/dist-packages (0.8.11)\n",
            "Requirement already satisfied: lxml>=2.3.2 in /usr/local/lib/python3.9/dist-packages (from python-docx) (4.9.2)\n",
            "Looking in indexes: https://pypi.org/simple, https://us-python.pkg.dev/colab-wheels/public/simple/\n",
            "Collecting docx2pdf\n",
            "  Downloading docx2pdf-0.1.8-py3-none-any.whl (6.7 kB)\n",
            "Requirement already satisfied: tqdm>=4.41.0 in /usr/local/lib/python3.9/dist-packages (from docx2pdf) (4.65.0)\n",
            "Installing collected packages: docx2pdf\n",
            "Successfully installed docx2pdf-0.1.8\n"
          ]
        }
      ]
    },
    {
      "cell_type": "code",
      "source": [
        "# 가장 기본적인 기능(문서 열기, 저장, 글자 쓰기 등등)\n",
        "from docx import Document\n",
        "# 문단 정렬\n",
        "from docx.enum.text import WD_ALIGN_PARAGRAPH\n",
        "# 문자 스타일 변경\n",
        "from docx.enum.style import WD_STYLE_TYPE\n",
        "\n",
        "from docx2pdf import convert"
      ],
      "metadata": {
        "id": "e2yXHV_2h3td"
      },
      "execution_count": 10,
      "outputs": []
    },
    {
      "cell_type": "code",
      "source": [
        "doc = Document()"
      ],
      "metadata": {
        "id": "-DuqHCeTjC6u"
      },
      "execution_count": 6,
      "outputs": []
    },
    {
      "cell_type": "code",
      "source": [
        "doc.add_heading('가장 큰 제목 (아래에 밑줄)', level=0)\n",
        "doc.add_heading('제목 크기, H1', level=1)\n",
        "doc.add_heading('제목 크기, H2', level=2)\n",
        "doc.add_heading('제목 크기, H3', level=3)\n",
        "doc.add_heading('제목 크기, H4', level=4)\n",
        "doc.add_heading('제목 크기, H5', level=5)\n",
        "doc.add_heading('제목 크기, H6', level=6)"
      ],
      "metadata": {
        "id": "19VszGN6jO4O",
        "outputId": "54c7bb57-21df-4b69-cbcd-a57af52b9beb",
        "colab": {
          "base_uri": "https://localhost:8080/"
        }
      },
      "execution_count": 7,
      "outputs": [
        {
          "output_type": "execute_result",
          "data": {
            "text/plain": [
              "<docx.text.paragraph.Paragraph at 0x7f213c62be80>"
            ]
          },
          "metadata": {},
          "execution_count": 7
        }
      ]
    },
    {
      "cell_type": "code",
      "source": [
        "# 현재 작업경로에 저장\n",
        "doc.save('저장하고 싶은 파일명.docx')"
      ],
      "metadata": {
        "id": "g7QETTQUjftO"
      },
      "execution_count": 8,
      "outputs": []
    },
    {
      "cell_type": "code",
      "source": [
        "convert(\"/content/저장하고 싶은 파일명.docx\", \"/content/저장하고 싶은 파일명.pdf\")"
      ],
      "metadata": {
        "id": "KT2qc-WWj62d",
        "outputId": "4eb7bd4e-406e-4dcb-9568-d50130d15b7d",
        "colab": {
          "base_uri": "https://localhost:8080/",
          "height": 372
        }
      },
      "execution_count": 17,
      "outputs": [
        {
          "output_type": "error",
          "ename": "NotImplementedError",
          "evalue": "ignored",
          "traceback": [
            "\u001b[0;31m---------------------------------------------------------------------------\u001b[0m",
            "\u001b[0;31mNotImplementedError\u001b[0m                       Traceback (most recent call last)",
            "\u001b[0;32m<ipython-input-17-7ef1c8f7c803>\u001b[0m in \u001b[0;36m<module>\u001b[0;34m\u001b[0m\n\u001b[0;32m----> 1\u001b[0;31m \u001b[0mconvert\u001b[0m\u001b[0;34m(\u001b[0m\u001b[0;34m\"/content/저장하고 싶은 파일명.docx\"\u001b[0m\u001b[0;34m,\u001b[0m \u001b[0;34m\"/content/저장하고 싶은 파일명.pdf\"\u001b[0m\u001b[0;34m)\u001b[0m\u001b[0;34m\u001b[0m\u001b[0;34m\u001b[0m\u001b[0m\n\u001b[0m",
            "\u001b[0;32m/usr/local/lib/python3.9/dist-packages/docx2pdf/__init__.py\u001b[0m in \u001b[0;36mconvert\u001b[0;34m(input_path, output_path, keep_active)\u001b[0m\n\u001b[1;32m    106\u001b[0m         \u001b[0;32mreturn\u001b[0m \u001b[0mwindows\u001b[0m\u001b[0;34m(\u001b[0m\u001b[0mpaths\u001b[0m\u001b[0;34m,\u001b[0m \u001b[0mkeep_active\u001b[0m\u001b[0;34m)\u001b[0m\u001b[0;34m\u001b[0m\u001b[0;34m\u001b[0m\u001b[0m\n\u001b[1;32m    107\u001b[0m     \u001b[0;32melse\u001b[0m\u001b[0;34m:\u001b[0m\u001b[0;34m\u001b[0m\u001b[0;34m\u001b[0m\u001b[0m\n\u001b[0;32m--> 108\u001b[0;31m         raise NotImplementedError(\n\u001b[0m\u001b[1;32m    109\u001b[0m             \u001b[0;34m\"docx2pdf is not implemented for linux as it requires Microsoft Word to be installed\"\u001b[0m\u001b[0;34m\u001b[0m\u001b[0;34m\u001b[0m\u001b[0m\n\u001b[1;32m    110\u001b[0m         )\n",
            "\u001b[0;31mNotImplementedError\u001b[0m: docx2pdf is not implemented for linux as it requires Microsoft Word to be installed"
          ]
        }
      ]
    }
  ],
  "metadata": {
    "colab": {
      "name": "Colaboratory에 오신 것을 환영합니다",
      "provenance": [],
      "include_colab_link": true
    },
    "kernelspec": {
      "display_name": "Python 3",
      "name": "python3"
    }
  },
  "nbformat": 4,
  "nbformat_minor": 0
}