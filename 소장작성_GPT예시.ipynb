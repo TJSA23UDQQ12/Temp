{
  "cells": [
    {
      "cell_type": "markdown",
      "metadata": {
        "id": "view-in-github",
        "colab_type": "text"
      },
      "source": [
        "<a href=\"https://colab.research.google.com/github/TJSA23UDQQ12/Temp/blob/master/%EC%86%8C%EC%9E%A5%EC%9E%91%EC%84%B1_GPT%EC%98%88%EC%8B%9C.ipynb\" target=\"_parent\"><img src=\"https://colab.research.google.com/assets/colab-badge.svg\" alt=\"Open In Colab\"/></a>"
      ]
    },
    {
      "cell_type": "code",
      "source": [
        "!pip install tensorflow\n",
        "!pip install keras\n",
        "!pip install nltk"
      ],
      "metadata": {
        "id": "Ytxw_Q8Z_c1y"
      },
      "execution_count": null,
      "outputs": []
    },
    {
      "cell_type": "code",
      "source": [
        "import nltk\n",
        "nltk.download('punkt')\n",
        "\n",
        "from keras.models import Sequential\n",
        "from keras.layers import Dense, Dropout, LSTM\n",
        "from keras.callbacks import ModelCheckpoint\n",
        "from keras.utils import np_utils\n",
        "from keras.preprocessing.text import Tokenizer\n",
        "from keras.utils import pad_sequences\n",
        "\n",
        "import numpy as np\n",
        "import random\n",
        "import sys\n",
        "\n",
        "# Load the data\n",
        "text = open(\"writing_prompts.txt\").read().lower()\n",
        "\n",
        "# Tokenize the text and create sequences of tokens\n",
        "tokenizer = Tokenizer()\n",
        "tokenizer.fit_on_texts([text])\n",
        "sequences = tokenizer.texts_to_sequences([text])[0]\n",
        "\n",
        "# Create input/output sequences for the model\n",
        "input_sequences = []\n",
        "output_sequences = []\n",
        "for i in range(1, len(sequences)):\n",
        "    input_sequences.append(sequences[:i])\n",
        "    output_sequences.append(sequences[i])\n",
        "\n",
        "# Pad sequences to a fixed length\n",
        "max_len = max([len(seq) for seq in input_sequences])\n",
        "padded_input_sequences = pad_sequences(input_sequences, maxlen=max_len)\n",
        "\n",
        "# Convert outputs to one-hot encoding\n",
        "num_words = len(tokenizer.word_index) + 1\n",
        "y = np_utils.to_categorical(output_sequences, num_classes=num_words)\n",
        "\n",
        "# Define the model\n",
        "model = Sequential()\n",
        "model.add(Embedding(num_words, 128, input_length=max_len))\n",
        "model.add(LSTM(128))\n",
        "model.add(Dropout(0.2))\n",
        "model.add(Dense(num_words, activation='softmax'))\n",
        "model.compile(loss='categorical_crossentropy', optimizer='adam')\n",
        "\n",
        "# Train the model\n",
        "model.fit(padded_input_sequences, y, batch_size=128, epochs=50)\n",
        "\n",
        "# Generate writing prompts based on user input\n",
        "def generate_prompt(model, tokenizer, input_text):\n",
        "    input_sequence = tokenizer.texts_to_sequences([input_text])[0]\n",
        "    padded_input_sequence = pad_sequences([input_sequence], maxlen=max_len)\n",
        "    prediction = model.predict(padded_input_sequence, verbose=0)\n",
        "    index = np.argmax(prediction)\n",
        "    output_word = \"\"\n",
        "    for word, i in tokenizer.word_index.items():\n",
        "        if i == index:\n",
        "            output_word = word\n",
        "            break"
      ],
      "metadata": {
        "id": "71AW3x9JAQ-L",
        "outputId": "8bd3651e-5f99-4d52-ac42-978d28296c01",
        "colab": {
          "base_uri": "https://localhost:8080/",
          "height": 281
        }
      },
      "execution_count": 5,
      "outputs": [
        {
          "output_type": "stream",
          "name": "stderr",
          "text": [
            "[nltk_data] Downloading package punkt to /root/nltk_data...\n",
            "[nltk_data]   Package punkt is already up-to-date!\n"
          ]
        },
        {
          "output_type": "error",
          "ename": "FileNotFoundError",
          "evalue": "ignored",
          "traceback": [
            "\u001b[0;31m---------------------------------------------------------------------------\u001b[0m",
            "\u001b[0;31mFileNotFoundError\u001b[0m                         Traceback (most recent call last)",
            "\u001b[0;32m<ipython-input-5-4f73a3b91a53>\u001b[0m in \u001b[0;36m<module>\u001b[0;34m\u001b[0m\n\u001b[1;32m     14\u001b[0m \u001b[0;34m\u001b[0m\u001b[0m\n\u001b[1;32m     15\u001b[0m \u001b[0;31m# Load the data\u001b[0m\u001b[0;34m\u001b[0m\u001b[0;34m\u001b[0m\u001b[0m\n\u001b[0;32m---> 16\u001b[0;31m \u001b[0mtext\u001b[0m \u001b[0;34m=\u001b[0m \u001b[0mopen\u001b[0m\u001b[0;34m(\u001b[0m\u001b[0;34m\"writing_prompts.txt\"\u001b[0m\u001b[0;34m)\u001b[0m\u001b[0;34m.\u001b[0m\u001b[0mread\u001b[0m\u001b[0;34m(\u001b[0m\u001b[0;34m)\u001b[0m\u001b[0;34m.\u001b[0m\u001b[0mlower\u001b[0m\u001b[0;34m(\u001b[0m\u001b[0;34m)\u001b[0m\u001b[0;34m\u001b[0m\u001b[0;34m\u001b[0m\u001b[0m\n\u001b[0m\u001b[1;32m     17\u001b[0m \u001b[0;34m\u001b[0m\u001b[0m\n\u001b[1;32m     18\u001b[0m \u001b[0;31m# Tokenize the text and create sequences of tokens\u001b[0m\u001b[0;34m\u001b[0m\u001b[0;34m\u001b[0m\u001b[0m\n",
            "\u001b[0;31mFileNotFoundError\u001b[0m: [Errno 2] No such file or directory: 'writing_prompts.txt'"
          ]
        }
      ]
    }
  ],
  "metadata": {
    "colab": {
      "name": "Colaboratory에 오신 것을 환영합니다",
      "toc_visible": true,
      "provenance": [],
      "include_colab_link": true
    },
    "kernelspec": {
      "display_name": "Python 3",
      "name": "python3"
    }
  },
  "nbformat": 4,
  "nbformat_minor": 0
}